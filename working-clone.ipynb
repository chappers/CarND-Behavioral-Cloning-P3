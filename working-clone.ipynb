{
 "cells": [
  {
   "cell_type": "code",
   "execution_count": 1,
   "metadata": {},
   "outputs": [
    {
     "name": "stderr",
     "output_type": "stream",
     "text": [
      "Using TensorFlow backend.\n"
     ]
    }
   ],
   "source": [
    "import csv\n",
    "import numpy as np\n",
    "#from random import shuffle\n",
    "import cv2\n",
    "import matplotlib.pyplot as plt\n",
    "import os\n",
    "\n",
    "from keras.models import Sequential\n",
    "from keras.layers import Flatten, Dense, Lambda, Conv2D, Cropping2D, Dropout, MaxPooling2D\n",
    "\n",
    "from sklearn.model_selection import train_test_split\n",
    "from sklearn.utils import shuffle\n",
    "\n",
    "import matplotlib.pyplot as plt\n",
    "%matplotlib inline"
   ]
  },
  {
   "cell_type": "code",
   "execution_count": 2,
   "metadata": {
    "collapsed": true
   },
   "outputs": [],
   "source": [
    "# Import driving log\n",
    "lines = []\n",
    "with open('./data/driving_log.csv') as csvfile:\n",
    "    reader = csv.reader(csvfile)\n",
    "    for line in reader:\n",
    "        lines.append(line)"
   ]
  },
  {
   "cell_type": "code",
   "execution_count": 3,
   "metadata": {},
   "outputs": [
    {
     "data": {
      "text/plain": [
       "'C:\\\\Users\\\\chapm\\\\Documents\\\\GitHub\\\\CarND-Behavioral-Cloning-P3\\\\recordings\\\\IMG\\\\center_2017_06_28_19_50_31_993.jpg'"
      ]
     },
     "execution_count": 3,
     "metadata": {},
     "output_type": "execute_result"
    }
   ],
   "source": [
    "lines[0][0]"
   ]
  },
  {
   "cell_type": "code",
   "execution_count": 4,
   "metadata": {
    "collapsed": true
   },
   "outputs": [],
   "source": [
    "images = []\n",
    "measurements = []\n",
    "for line in lines:\n",
    "        source_path = line[0]\n",
    "        image = cv2.imread(source_path)\n",
    "        images.append(image)\n",
    "        measurement = float(line[3])\n",
    "        measurements.append(measurement)\n",
    "        \n",
    "X_train = np.array(images)\n",
    "y_train = np.array(measurements)\n",
    "        "
   ]
  },
  {
   "cell_type": "code",
   "execution_count": 9,
   "metadata": {},
   "outputs": [
    {
     "name": "stdout",
     "output_type": "stream",
     "text": [
      "Train on 2191 samples, validate on 548 samples\n",
      "Epoch 1/10\n",
      "2191/2191 [==============================] - 2s - loss: 27480191.2640 - val_loss: 190872.8483\n",
      "Epoch 2/10\n",
      "2191/2191 [==============================] - 2s - loss: 31980.4871 - val_loss: 5210.9753\n",
      "Epoch 3/10\n",
      "2191/2191 [==============================] - 2s - loss: 8049.5589 - val_loss: 3127.3273\n",
      "Epoch 4/10\n",
      "2191/2191 [==============================] - 2s - loss: 5217.9880 - val_loss: 4294.1003\n",
      "Epoch 5/10\n",
      "2191/2191 [==============================] - 2s - loss: 3993.8130 - val_loss: 2677.0990\n",
      "Epoch 6/10\n",
      "2191/2191 [==============================] - 2s - loss: 3190.1160 - val_loss: 2112.7178\n",
      "Epoch 7/10\n",
      "2191/2191 [==============================] - 2s - loss: 3433.4574 - val_loss: 3933.3788\n",
      "Epoch 8/10\n",
      "2191/2191 [==============================] - 2s - loss: 2423.1218 - val_loss: 2271.7845\n",
      "Epoch 9/10\n",
      "2191/2191 [==============================] - 2s - loss: 2222.1056 - val_loss: 1736.3288\n",
      "Epoch 10/10\n",
      "2191/2191 [==============================] - 2s - loss: 2016.5651 - val_loss: 3195.5772\n"
     ]
    },
    {
     "data": {
      "text/plain": [
       "<keras.callbacks.History at 0x1727eae1400>"
      ]
     },
     "execution_count": 9,
     "metadata": {},
     "output_type": "execute_result"
    }
   ],
   "source": [
    "input_shape = (160, 320, 3)\n",
    "\n",
    "model = Sequential()\n",
    "model.add(Flatten(input_shape=(160, 320, 3)))\n",
    "model.add(Dense(1))\n",
    "\n",
    "model.compile(loss='mse', optimizer='adam')\n",
    "model.fit(X_train, y_train, validation_split=0.2, shuffle=True)"
   ]
  },
  {
   "cell_type": "code",
   "execution_count": 10,
   "metadata": {
    "collapsed": true
   },
   "outputs": [],
   "source": [
    "model.save('model.h5')"
   ]
  }
 ],
 "metadata": {
  "kernelspec": {
   "display_name": "Python [conda env:carnd-term1]",
   "language": "python",
   "name": "conda-env-carnd-term1-py"
  },
  "language_info": {
   "codemirror_mode": {
    "name": "ipython",
    "version": 3
   },
   "file_extension": ".py",
   "mimetype": "text/x-python",
   "name": "python",
   "nbconvert_exporter": "python",
   "pygments_lexer": "ipython3",
   "version": "3.5.2"
  }
 },
 "nbformat": 4,
 "nbformat_minor": 2
}
